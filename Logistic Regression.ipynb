{
 "cells": [
  {
   "cell_type": "code",
   "execution_count": 1,
   "id": "12b3ae7d",
   "metadata": {},
   "outputs": [],
   "source": [
    "import pandas as pd\n",
    "\n",
    "from sklearn.model_selection import GridSearchCV, ShuffleSplit\n",
    "from sklearn.utils import shuffle\n",
    "from sklearn.model_selection import ValidationCurveDisplay\n",
    "from sklearn.linear_model import LogisticRegression\n",
    "from ucimlrepo import fetch_ucirepo\n",
    "import warnings\n",
    "warnings.filterwarnings(\"ignore\")\n",
    "\n",
    "## #Get datasets x3\n",
    "#Shuffle X and y using shuffle\n",
    "#Encode X (if needed), squeeze y\n",
    "#Set aside data for \"test\" to keep the amount of \"train\" & \"validate\" consistent across datasets\n",
    "#ShuffleSplit(n_iter=3, (THIS IS THE 3 TRIALS) testsize=TRY ALL 3) and gridsearch to find hyperparams x3 testsize, x3 classifiers\n",
    "#set parameters\n",
    "#Get test error with test set\n",
    "#Evaluate"
   ]
  },
  {
   "cell_type": "code",
   "execution_count": 2,
   "id": "2ad071c7",
   "metadata": {},
   "outputs": [],
   "source": [
    "def fetch_dataset(name):\n",
    "    match name:\n",
    "        case \"dry_bean_dataset\":\n",
    "            dry_bean_dataset = fetch_ucirepo(id=602) \n",
    "\n",
    "            # data (as pandas dataframes) \n",
    "            X = dry_bean_dataset.data.features \n",
    "            y = dry_bean_dataset.data.targets \n",
    "            y = (y == \"DERMASON\").squeeze()\n",
    "        case \"adult\":\n",
    "            adult = fetch_ucirepo(id=2) \n",
    "\n",
    "            # data (as pandas dataframes) \n",
    "            X = adult.data.features \n",
    "            y = adult.data.targets\n",
    "            y = ((y == \"<=50K\") | (y == \"<=50K.\")).squeeze()\n",
    "        case \"bank_marketing\":\n",
    "            bank_marketing = fetch_ucirepo(id=222) \n",
    "  \n",
    "            # data (as pandas dataframes) \n",
    "            X = bank_marketing.data.features \n",
    "            y = bank_marketing.data.targets\n",
    "            y = (y == \"yes\").squeeze()\n",
    "    return X, y"
   ]
  },
  {
   "cell_type": "code",
   "execution_count": 3,
   "id": "e453c4fe",
   "metadata": {},
   "outputs": [],
   "source": [
    "def encoding(X):\n",
    "    return pd.get_dummies(X)"
   ]
  },
  {
   "cell_type": "code",
   "execution_count": 4,
   "id": "c53a06c8",
   "metadata": {},
   "outputs": [],
   "source": [
    "def split_data(X, y):\n",
    "    X_sum = X.iloc[:5000]\n",
    "    y_sum = y.iloc[:5000]\n",
    "    X_test = X.iloc[5000:]\n",
    "    y_test = y.iloc[5000:]\n",
    "    return X_sum, y_sum, X_test, y_test"
   ]
  },
  {
   "cell_type": "code",
   "execution_count": 5,
   "id": "37d518a9",
   "metadata": {},
   "outputs": [],
   "source": [
    "def data_setup(X, y):\n",
    "    X, y = shuffle(X, y)#, random_state=0)\n",
    "    X, y = X.reset_index(drop=True), y.reset_index(drop=True)\n",
    "    X = encoding(X)\n",
    "    X_sum, y_sum, X_test, y_test = split_data(X, y)\n",
    "    return X_sum, y_sum, X_test, y_test"
   ]
  },
  {
   "cell_type": "code",
   "execution_count": 6,
   "id": "1ab79ecb",
   "metadata": {},
   "outputs": [],
   "source": [
    "def LR_score(X, y, train_size, test_size):\n",
    "    X_sum, y_sum, X_test, y_test = data_setup(X, y)\n",
    "    parameters = {'C':[0.01, 0.1, 1, 10], 'max_iter':[100, 200, 300]}\n",
    "    # print(\"train: \" + str(train_size))\n",
    "    # Train test split\n",
    "    shuffle_split = ShuffleSplit(n_splits=3, train_size=train_size, test_size=test_size)\n",
    "\n",
    "\n",
    "    # GridSearch without CV\n",
    "    clf = LogisticRegression()\n",
    "    grid_search = GridSearchCV(clf, param_grid=parameters, cv=shuffle_split, return_train_score=True)\n",
    "    grid_search.fit(X_sum, y_sum)\n",
    "    \n",
    "    results = pd.DataFrame(grid_search.cv_results_)\n",
    "    best_params = grid_search.best_params_\n",
    "    train_score = results[\"mean_train_score\"][grid_search.best_index_]\n",
    "    validation_score = results[\"mean_test_score\"][grid_search.best_index_]\n",
    "    clf = LogisticRegression(C=best_params[\"C\"], max_iter=best_params[\"max_iter\"]).fit(X_sum, y_sum)#, random_state=0)\n",
    "    test_score = clf.score(X_test, y_test)\n",
    "    \n",
    "    return train_score, validation_score, test_score, best_params"
   ]
  },
  {
   "cell_type": "code",
   "execution_count": 7,
   "id": "6c245026",
   "metadata": {},
   "outputs": [],
   "source": [
    "def make_list(train_score, validation_score, test_score, best_params):\n",
    "    row = [train_score, validation_score, test_score, best_params]"
   ]
  },
  {
   "cell_type": "code",
   "execution_count": null,
   "id": "5d38ce86",
   "metadata": {},
   "outputs": [],
   "source": []
  },
  {
   "cell_type": "code",
   "execution_count": 41,
   "id": "591faaff",
   "metadata": {},
   "outputs": [],
   "source": [
    "X, y = fetch_dataset(\"dry_bean_dataset\")"
   ]
  },
  {
   "cell_type": "code",
   "execution_count": 44,
   "id": "3ca4ba81",
   "metadata": {},
   "outputs": [
    {
     "data": {
      "text/plain": [
       "Class\n",
       "False    10065\n",
       "True      3546\n",
       "Name: count, dtype: int64"
      ]
     },
     "execution_count": 44,
     "metadata": {},
     "output_type": "execute_result"
    }
   ],
   "source": [
    "y.value_counts()"
   ]
  },
  {
   "cell_type": "code",
   "execution_count": 42,
   "id": "6dc83b91",
   "metadata": {},
   "outputs": [],
   "source": [
    "X_sum, y_sum, X_test, y_test = data_setup(X, y)"
   ]
  },
  {
   "cell_type": "code",
   "execution_count": 43,
   "id": "cfd5bcaa",
   "metadata": {},
   "outputs": [
    {
     "data": {
      "text/plain": [
       "5000      True\n",
       "5001     False\n",
       "5002     False\n",
       "5003     False\n",
       "5004     False\n",
       "         ...  \n",
       "13606     True\n",
       "13607    False\n",
       "13608    False\n",
       "13609     True\n",
       "13610    False\n",
       "Name: Class, Length: 8611, dtype: bool"
      ]
     },
     "execution_count": 43,
     "metadata": {},
     "output_type": "execute_result"
    }
   ],
   "source": [
    "y_test"
   ]
  },
  {
   "cell_type": "code",
   "execution_count": 31,
   "id": "9b6d6868",
   "metadata": {},
   "outputs": [
    {
     "data": {
      "text/html": [
       "<div>\n",
       "<style scoped>\n",
       "    .dataframe tbody tr th:only-of-type {\n",
       "        vertical-align: middle;\n",
       "    }\n",
       "\n",
       "    .dataframe tbody tr th {\n",
       "        vertical-align: top;\n",
       "    }\n",
       "\n",
       "    .dataframe thead th {\n",
       "        text-align: right;\n",
       "    }\n",
       "</style>\n",
       "<table border=\"1\" class=\"dataframe\">\n",
       "  <thead>\n",
       "    <tr style=\"text-align: right;\">\n",
       "      <th></th>\n",
       "      <th>Train/Test Split</th>\n",
       "      <th>Training Accuracy</th>\n",
       "      <th>Validation Accuracy</th>\n",
       "      <th>Testing Accuracy</th>\n",
       "      <th>Hyperparameters</th>\n",
       "    </tr>\n",
       "  </thead>\n",
       "  <tbody>\n",
       "    <tr>\n",
       "      <th>0</th>\n",
       "      <td>[0.2, 0.8]</td>\n",
       "      <td>0.938333</td>\n",
       "      <td>0.93925</td>\n",
       "      <td>0.928812</td>\n",
       "      <td>{'C': 1, 'max_iter': 200}</td>\n",
       "    </tr>\n",
       "    <tr>\n",
       "      <th>1</th>\n",
       "      <td>[0.5, 0.5]</td>\n",
       "      <td>0.947200</td>\n",
       "      <td>0.94320</td>\n",
       "      <td>0.951806</td>\n",
       "      <td>{'C': 1, 'max_iter': 200}</td>\n",
       "    </tr>\n",
       "    <tr>\n",
       "      <th>2</th>\n",
       "      <td>[0.8, 0.2]</td>\n",
       "      <td>0.954583</td>\n",
       "      <td>0.94700</td>\n",
       "      <td>0.952619</td>\n",
       "      <td>{'C': 1, 'max_iter': 200}</td>\n",
       "    </tr>\n",
       "  </tbody>\n",
       "</table>\n",
       "</div>"
      ],
      "text/plain": [
       "  Train/Test Split  Training Accuracy  Validation Accuracy  Testing Accuracy  \\\n",
       "0       [0.2, 0.8]           0.938333              0.93925          0.928812   \n",
       "1       [0.5, 0.5]           0.947200              0.94320          0.951806   \n",
       "2       [0.8, 0.2]           0.954583              0.94700          0.952619   \n",
       "\n",
       "             Hyperparameters  \n",
       "0  {'C': 1, 'max_iter': 200}  \n",
       "1  {'C': 1, 'max_iter': 200}  \n",
       "2  {'C': 1, 'max_iter': 200}  "
      ]
     },
     "execution_count": 31,
     "metadata": {},
     "output_type": "execute_result"
    }
   ],
   "source": [
    "col = []\n",
    "for train, test in [[0.2, 0.8], [0.5, 0.5], [0.8, 0.2]]:\n",
    "    train_score, validation_score, test_score, best_params = LR_score(X, y, train_size=train, test_size=test)\n",
    "    row = [[train, test], train_score, validation_score, test_score, best_params]\n",
    "    col.append(row)\n",
    "df = pd.DataFrame(col)\n",
    "df.columns = [\"Train/Test Split\", \"Training Accuracy\", \"Validation Accuracy\", \"Testing Accuracy\", \"Hyperparameters\"]\n",
    "df"
   ]
  },
  {
   "cell_type": "code",
   "execution_count": 32,
   "id": "c76e9e14",
   "metadata": {},
   "outputs": [],
   "source": [
    "df.to_clipboard()"
   ]
  },
  {
   "cell_type": "code",
   "execution_count": 8,
   "id": "6b3e33e9",
   "metadata": {},
   "outputs": [
    {
     "name": "stdout",
     "output_type": "stream",
     "text": [
      "({'C': 10, 'max_iter': 200}, 0.9366666666666666, 0.9400833333333334, 0.9522703518755081)\n"
     ]
    }
   ],
   "source": [
    "print(LR_score(X, y, train_size=0.2, test_size=0.8))"
   ]
  },
  {
   "cell_type": "code",
   "execution_count": 9,
   "id": "9cb019a2",
   "metadata": {},
   "outputs": [
    {
     "name": "stdout",
     "output_type": "stream",
     "text": [
      "({'C': 1, 'max_iter': 200}, 0.9433333333333334, 0.9436, 0.9296248983857857)\n"
     ]
    }
   ],
   "source": [
    "print(LR_score(X, y, train_size=0.5, test_size=0.5))"
   ]
  },
  {
   "cell_type": "code",
   "execution_count": 10,
   "id": "f56025ad",
   "metadata": {},
   "outputs": [
    {
     "name": "stdout",
     "output_type": "stream",
     "text": [
      "({'C': 0.1, 'max_iter': 200}, 0.95775, 0.9553333333333334, 0.9282313320171873)\n"
     ]
    }
   ],
   "source": [
    "print(LR_score(X, y, train_size=0.8, test_size=0.2))"
   ]
  },
  {
   "cell_type": "code",
   "execution_count": null,
   "id": "18a15c22",
   "metadata": {},
   "outputs": [],
   "source": []
  },
  {
   "cell_type": "code",
   "execution_count": 45,
   "id": "4308e3de",
   "metadata": {},
   "outputs": [],
   "source": [
    "X, y = fetch_dataset(\"adult\")"
   ]
  },
  {
   "cell_type": "code",
   "execution_count": null,
   "id": "fc527466",
   "metadata": {},
   "outputs": [],
   "source": []
  },
  {
   "cell_type": "code",
   "execution_count": 46,
   "id": "f980bc15",
   "metadata": {},
   "outputs": [
    {
     "data": {
      "text/plain": [
       "income\n",
       "True     37155\n",
       "False    11687\n",
       "Name: count, dtype: int64"
      ]
     },
     "execution_count": 46,
     "metadata": {},
     "output_type": "execute_result"
    }
   ],
   "source": [
    "y.value_counts()"
   ]
  },
  {
   "cell_type": "code",
   "execution_count": 34,
   "id": "c68bee13",
   "metadata": {},
   "outputs": [
    {
     "data": {
      "text/html": [
       "<div>\n",
       "<style scoped>\n",
       "    .dataframe tbody tr th:only-of-type {\n",
       "        vertical-align: middle;\n",
       "    }\n",
       "\n",
       "    .dataframe tbody tr th {\n",
       "        vertical-align: top;\n",
       "    }\n",
       "\n",
       "    .dataframe thead th {\n",
       "        text-align: right;\n",
       "    }\n",
       "</style>\n",
       "<table border=\"1\" class=\"dataframe\">\n",
       "  <thead>\n",
       "    <tr style=\"text-align: right;\">\n",
       "      <th></th>\n",
       "      <th>Train/Test Split</th>\n",
       "      <th>Training Accuracy</th>\n",
       "      <th>Validation Accuracy</th>\n",
       "      <th>Testing Accuracy</th>\n",
       "      <th>Hyperparameters</th>\n",
       "    </tr>\n",
       "  </thead>\n",
       "  <tbody>\n",
       "    <tr>\n",
       "      <th>0</th>\n",
       "      <td>[0.2, 0.8]</td>\n",
       "      <td>0.81300</td>\n",
       "      <td>0.812167</td>\n",
       "      <td>0.797295</td>\n",
       "      <td>{'C': 10, 'max_iter': 200}</td>\n",
       "    </tr>\n",
       "    <tr>\n",
       "      <th>1</th>\n",
       "      <td>[0.5, 0.5]</td>\n",
       "      <td>0.80800</td>\n",
       "      <td>0.809467</td>\n",
       "      <td>0.795995</td>\n",
       "      <td>{'C': 1, 'max_iter': 200}</td>\n",
       "    </tr>\n",
       "    <tr>\n",
       "      <th>2</th>\n",
       "      <td>[0.8, 0.2]</td>\n",
       "      <td>0.81075</td>\n",
       "      <td>0.820333</td>\n",
       "      <td>0.799234</td>\n",
       "      <td>{'C': 10, 'max_iter': 200}</td>\n",
       "    </tr>\n",
       "  </tbody>\n",
       "</table>\n",
       "</div>"
      ],
      "text/plain": [
       "  Train/Test Split  Training Accuracy  Validation Accuracy  Testing Accuracy  \\\n",
       "0       [0.2, 0.8]            0.81300             0.812167          0.797295   \n",
       "1       [0.5, 0.5]            0.80800             0.809467          0.795995   \n",
       "2       [0.8, 0.2]            0.81075             0.820333          0.799234   \n",
       "\n",
       "              Hyperparameters  \n",
       "0  {'C': 10, 'max_iter': 200}  \n",
       "1   {'C': 1, 'max_iter': 200}  \n",
       "2  {'C': 10, 'max_iter': 200}  "
      ]
     },
     "execution_count": 34,
     "metadata": {},
     "output_type": "execute_result"
    }
   ],
   "source": [
    "col = []\n",
    "for train, test in [[0.2, 0.8], [0.5, 0.5], [0.8, 0.2]]:\n",
    "    train_score, validation_score, test_score, best_params = LR_score(X, y, train_size=train, test_size=test)\n",
    "    row = [[train, test], train_score, validation_score, test_score, best_params]\n",
    "    col.append(row)\n",
    "df = pd.DataFrame(col)\n",
    "df.columns = [\"Train/Test Split\", \"Training Accuracy\", \"Validation Accuracy\", \"Testing Accuracy\", \"Hyperparameters\"]\n",
    "df"
   ]
  },
  {
   "cell_type": "code",
   "execution_count": 36,
   "id": "752c4e4c",
   "metadata": {},
   "outputs": [],
   "source": [
    "df.to_clipboard()"
   ]
  },
  {
   "cell_type": "code",
   "execution_count": 12,
   "id": "b1a1da74",
   "metadata": {},
   "outputs": [
    {
     "name": "stdout",
     "output_type": "stream",
     "text": [
      "({'C': 0.01, 'max_iter': 100}, 0.801, 0.8003333333333335, 0.7956069522375804)\n"
     ]
    }
   ],
   "source": [
    "print(LR_score(X, y, train_size=0.2, test_size=0.8))"
   ]
  },
  {
   "cell_type": "code",
   "execution_count": 13,
   "id": "0d52b543",
   "metadata": {},
   "outputs": [
    {
     "name": "stdout",
     "output_type": "stream",
     "text": [
      "({'C': 0.01, 'max_iter': 100}, 0.8048000000000001, 0.7990666666666666, 0.7980247251494001)\n"
     ]
    }
   ],
   "source": [
    "print(LR_score(X, y, train_size=0.5, test_size=0.5))"
   ]
  },
  {
   "cell_type": "code",
   "execution_count": 14,
   "id": "08d8d83d",
   "metadata": {},
   "outputs": [
    {
     "name": "stdout",
     "output_type": "stream",
     "text": [
      "({'C': 0.1, 'max_iter': 100}, 0.8077500000000001, 0.8136666666666666, 0.7974316865106519)\n"
     ]
    }
   ],
   "source": [
    "print(LR_score(X, y, train_size=0.8, test_size=0.2))"
   ]
  },
  {
   "cell_type": "code",
   "execution_count": null,
   "id": "24550acd",
   "metadata": {},
   "outputs": [],
   "source": []
  },
  {
   "cell_type": "code",
   "execution_count": 47,
   "id": "01d527fd",
   "metadata": {},
   "outputs": [],
   "source": [
    "X, y = fetch_dataset(\"bank_marketing\")"
   ]
  },
  {
   "cell_type": "code",
   "execution_count": 48,
   "id": "806f2d1a",
   "metadata": {},
   "outputs": [
    {
     "data": {
      "text/plain": [
       "y\n",
       "False    39922\n",
       "True      5289\n",
       "Name: count, dtype: int64"
      ]
     },
     "execution_count": 48,
     "metadata": {},
     "output_type": "execute_result"
    }
   ],
   "source": [
    "y.value_counts()"
   ]
  },
  {
   "cell_type": "code",
   "execution_count": 38,
   "id": "86d2824c",
   "metadata": {},
   "outputs": [
    {
     "data": {
      "text/html": [
       "<div>\n",
       "<style scoped>\n",
       "    .dataframe tbody tr th:only-of-type {\n",
       "        vertical-align: middle;\n",
       "    }\n",
       "\n",
       "    .dataframe tbody tr th {\n",
       "        vertical-align: top;\n",
       "    }\n",
       "\n",
       "    .dataframe thead th {\n",
       "        text-align: right;\n",
       "    }\n",
       "</style>\n",
       "<table border=\"1\" class=\"dataframe\">\n",
       "  <thead>\n",
       "    <tr style=\"text-align: right;\">\n",
       "      <th></th>\n",
       "      <th>Train/Test Split</th>\n",
       "      <th>Training Accuracy</th>\n",
       "      <th>Validation Accuracy</th>\n",
       "      <th>Testing Accuracy</th>\n",
       "      <th>Hyperparameters</th>\n",
       "    </tr>\n",
       "  </thead>\n",
       "  <tbody>\n",
       "    <tr>\n",
       "      <th>0</th>\n",
       "      <td>[0.2, 0.8]</td>\n",
       "      <td>0.878333</td>\n",
       "      <td>0.885583</td>\n",
       "      <td>0.892517</td>\n",
       "      <td>{'C': 10, 'max_iter': 200}</td>\n",
       "    </tr>\n",
       "    <tr>\n",
       "      <th>1</th>\n",
       "      <td>[0.5, 0.5]</td>\n",
       "      <td>0.900000</td>\n",
       "      <td>0.892933</td>\n",
       "      <td>0.894705</td>\n",
       "      <td>{'C': 1, 'max_iter': 300}</td>\n",
       "    </tr>\n",
       "    <tr>\n",
       "      <th>2</th>\n",
       "      <td>[0.8, 0.2]</td>\n",
       "      <td>0.886833</td>\n",
       "      <td>0.886667</td>\n",
       "      <td>0.891771</td>\n",
       "      <td>{'C': 1, 'max_iter': 300}</td>\n",
       "    </tr>\n",
       "  </tbody>\n",
       "</table>\n",
       "</div>"
      ],
      "text/plain": [
       "  Train/Test Split  Training Accuracy  Validation Accuracy  Testing Accuracy  \\\n",
       "0       [0.2, 0.8]           0.878333             0.885583          0.892517   \n",
       "1       [0.5, 0.5]           0.900000             0.892933          0.894705   \n",
       "2       [0.8, 0.2]           0.886833             0.886667          0.891771   \n",
       "\n",
       "              Hyperparameters  \n",
       "0  {'C': 10, 'max_iter': 200}  \n",
       "1   {'C': 1, 'max_iter': 300}  \n",
       "2   {'C': 1, 'max_iter': 300}  "
      ]
     },
     "execution_count": 38,
     "metadata": {},
     "output_type": "execute_result"
    }
   ],
   "source": [
    "col = []\n",
    "for train, test in [[0.2, 0.8], [0.5, 0.5], [0.8, 0.2]]:\n",
    "    train_score, validation_score, test_score, best_params = LR_score(X, y, train_size=train, test_size=test)\n",
    "    row = [[train, test], train_score, validation_score, test_score, best_params]\n",
    "    col.append(row)\n",
    "df = pd.DataFrame(col)\n",
    "df.columns = [\"Train/Test Split\", \"Training Accuracy\", \"Validation Accuracy\", \"Testing Accuracy\", \"Hyperparameters\"]\n",
    "df"
   ]
  },
  {
   "cell_type": "code",
   "execution_count": 39,
   "id": "fac2ecc3",
   "metadata": {},
   "outputs": [],
   "source": [
    "df.to_clipboard()"
   ]
  },
  {
   "cell_type": "code",
   "execution_count": 16,
   "id": "e360d4f3",
   "metadata": {},
   "outputs": [
    {
     "name": "stdout",
     "output_type": "stream",
     "text": [
      "({'C': 10, 'max_iter': 300}, 0.898, 0.8898333333333334, 0.8979632438884882)\n"
     ]
    }
   ],
   "source": [
    "print(LR_score(X, y, train_size=0.2, test_size=0.8))"
   ]
  },
  {
   "cell_type": "code",
   "execution_count": 17,
   "id": "1382419b",
   "metadata": {},
   "outputs": [
    {
     "name": "stdout",
     "output_type": "stream",
     "text": [
      "({'C': 0.1, 'max_iter': 300}, 0.9041333333333333, 0.8998666666666667, 0.8908507622292408)\n"
     ]
    }
   ],
   "source": [
    "print(LR_score(X, y, train_size=0.5, test_size=0.5))"
   ]
  },
  {
   "cell_type": "code",
   "execution_count": 18,
   "id": "4ed00b79",
   "metadata": {},
   "outputs": [
    {
     "name": "stdout",
     "output_type": "stream",
     "text": [
      "({'C': 1, 'max_iter': 200}, 0.9009166666666667, 0.8930000000000001, 0.8930392181243938)\n"
     ]
    }
   ],
   "source": [
    "print(LR_score(X, y, train_size=0.8, test_size=0.2))"
   ]
  },
  {
   "cell_type": "code",
   "execution_count": null,
   "id": "f4aad3a5",
   "metadata": {},
   "outputs": [],
   "source": []
  }
 ],
 "metadata": {
  "kernelspec": {
   "display_name": "Python 3 (ipykernel)",
   "language": "python",
   "name": "python3"
  },
  "language_info": {
   "codemirror_mode": {
    "name": "ipython",
    "version": 3
   },
   "file_extension": ".py",
   "mimetype": "text/x-python",
   "name": "python",
   "nbconvert_exporter": "python",
   "pygments_lexer": "ipython3",
   "version": "3.11.5"
  }
 },
 "nbformat": 4,
 "nbformat_minor": 5
}
