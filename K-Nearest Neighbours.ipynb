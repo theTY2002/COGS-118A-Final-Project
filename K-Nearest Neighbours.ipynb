{
 "cells": [
  {
   "cell_type": "code",
   "execution_count": 1,
   "id": "f69949b5",
   "metadata": {},
   "outputs": [],
   "source": [
    "import pandas as pd\n",
    "\n",
    "from sklearn.model_selection import GridSearchCV, ShuffleSplit\n",
    "from sklearn.utils import shuffle\n",
    "from sklearn.model_selection import ValidationCurveDisplay\n",
    "from sklearn.neighbors import KNeighborsClassifier\n",
    "from ucimlrepo import fetch_ucirepo\n",
    "import warnings\n",
    "warnings.filterwarnings(\"ignore\")\n",
    "\n",
    "## #Get datasets x3\n",
    "#Shuffle X and y using shuffle\n",
    "#Encode X (if needed), squeeze y\n",
    "#Set aside data for \"test\" to keep the amount of \"train\" & \"validate\" consistent across datasets\n",
    "#ShuffleSplit(n_iter=3, (THIS IS THE 3 TRIALS) testsize=TRY ALL 3) and gridsearch to find hyperparams x3 testsize, x3 classifiers\n",
    "#set parameters\n",
    "#Get test error with test set\n",
    "#Evaluate"
   ]
  },
  {
   "cell_type": "code",
   "execution_count": 2,
   "id": "a426311d",
   "metadata": {},
   "outputs": [],
   "source": [
    "def fetch_dataset(name):\n",
    "    match name:\n",
    "        case \"dry_bean_dataset\":\n",
    "            dry_bean_dataset = fetch_ucirepo(id=602) \n",
    "\n",
    "            # data (as pandas dataframes) \n",
    "            X = dry_bean_dataset.data.features \n",
    "            y = dry_bean_dataset.data.targets \n",
    "            y = (y == \"DERMASON\").squeeze()\n",
    "        case \"adult\":\n",
    "            adult = fetch_ucirepo(id=2) \n",
    "\n",
    "            # data (as pandas dataframes) \n",
    "            X = adult.data.features \n",
    "            y = adult.data.targets\n",
    "            y = ((y == \"<=50K\") | (y == \"<=50K.\")).squeeze()\n",
    "        case \"bank_marketing\":\n",
    "            bank_marketing = fetch_ucirepo(id=222) \n",
    "  \n",
    "            # data (as pandas dataframes) \n",
    "            X = bank_marketing.data.features \n",
    "            y = bank_marketing.data.targets\n",
    "            y = (y == \"yes\").squeeze()\n",
    "    return X, y"
   ]
  },
  {
   "cell_type": "code",
   "execution_count": 3,
   "id": "462b1b1b",
   "metadata": {},
   "outputs": [],
   "source": [
    "def encoding(X):\n",
    "    return pd.get_dummies(X)"
   ]
  },
  {
   "cell_type": "code",
   "execution_count": 4,
   "id": "b0ba784c",
   "metadata": {},
   "outputs": [],
   "source": [
    "def split_data(X, y):\n",
    "    X_sum = X.iloc[:5000]\n",
    "    y_sum = y.iloc[:5000]\n",
    "    X_test = X.iloc[5000:]\n",
    "    y_test = y.iloc[5000:]\n",
    "    return X_sum, y_sum, X_test, y_test"
   ]
  },
  {
   "cell_type": "code",
   "execution_count": 5,
   "id": "57309e37",
   "metadata": {},
   "outputs": [],
   "source": [
    "def data_setup(X, y):\n",
    "    X, y = shuffle(X, y)#, random_state=0)\n",
    "    X, y = X.reset_index(drop=True), y.reset_index(drop=True)\n",
    "    X = encoding(X)\n",
    "    X_sum, y_sum, X_test, y_test = split_data(X, y)\n",
    "    return X_sum, y_sum, X_test, y_test"
   ]
  },
  {
   "cell_type": "code",
   "execution_count": 6,
   "id": "295eceeb",
   "metadata": {},
   "outputs": [],
   "source": [
    "def KNN_score(X, y, test_size, train_size):\n",
    "    X_sum, y_sum, X_test, y_test = data_setup(X, y)\n",
    "    parameters = {\"n_neighbors\": [5, 10, 15]}\n",
    "    # print(\"train: \" + str(train_size))\n",
    "    # Train test split\n",
    "    shuffle_split = ShuffleSplit(n_splits=3, test_size=test_size, train_size=train_size)\n",
    "    # This is equivalent to: \n",
    "    #   X_train, X_test, y_train, y_test = train_test_split(X, y, test_size=0.3)\n",
    "    # But, it is usable for GridSearchCV\n",
    "\n",
    "    # GridSearch without CV\n",
    "    clf = KNeighborsClassifier()\n",
    "    grid_search = GridSearchCV(clf, param_grid=parameters, cv=shuffle_split, return_train_score=True)\n",
    "    grid_search.fit(X_sum, y_sum)\n",
    "    \n",
    "    results = pd.DataFrame(grid_search.cv_results_)\n",
    "    best_params = grid_search.best_params_\n",
    "    train_score = results[\"mean_train_score\"][grid_search.best_index_]\n",
    "    validation_score = results[\"mean_test_score\"][grid_search.best_index_]\n",
    "    clf = KNeighborsClassifier(n_neighbors=best_params[\"n_neighbors\"]).fit(X_sum, y_sum)#, random_state=0)\n",
    "    test_score = clf.score(X_test, y_test)\n",
    "    \n",
    "    return train_score, validation_score, test_score, best_params"
   ]
  },
  {
   "cell_type": "code",
   "execution_count": 7,
   "id": "8b3e9397",
   "metadata": {},
   "outputs": [],
   "source": [
    "X, y = fetch_dataset(\"dry_bean_dataset\")"
   ]
  },
  {
   "cell_type": "code",
   "execution_count": 8,
   "id": "ab9544d4",
   "metadata": {},
   "outputs": [
    {
     "data": {
      "text/html": [
       "<div>\n",
       "<style scoped>\n",
       "    .dataframe tbody tr th:only-of-type {\n",
       "        vertical-align: middle;\n",
       "    }\n",
       "\n",
       "    .dataframe tbody tr th {\n",
       "        vertical-align: top;\n",
       "    }\n",
       "\n",
       "    .dataframe thead th {\n",
       "        text-align: right;\n",
       "    }\n",
       "</style>\n",
       "<table border=\"1\" class=\"dataframe\">\n",
       "  <thead>\n",
       "    <tr style=\"text-align: right;\">\n",
       "      <th></th>\n",
       "      <th>Train/Test Split</th>\n",
       "      <th>Training Accuracy</th>\n",
       "      <th>Validation Accuracy</th>\n",
       "      <th>Testing Accuracy</th>\n",
       "      <th>Hyperparameters</th>\n",
       "    </tr>\n",
       "  </thead>\n",
       "  <tbody>\n",
       "    <tr>\n",
       "      <th>0</th>\n",
       "      <td>[0.2, 0.8]</td>\n",
       "      <td>0.919333</td>\n",
       "      <td>0.907083</td>\n",
       "      <td>0.897108</td>\n",
       "      <td>{'n_neighbors': 15}</td>\n",
       "    </tr>\n",
       "    <tr>\n",
       "      <th>1</th>\n",
       "      <td>[0.5, 0.5]</td>\n",
       "      <td>0.914000</td>\n",
       "      <td>0.899333</td>\n",
       "      <td>0.900244</td>\n",
       "      <td>{'n_neighbors': 15}</td>\n",
       "    </tr>\n",
       "    <tr>\n",
       "      <th>2</th>\n",
       "      <td>[0.8, 0.2]</td>\n",
       "      <td>0.936833</td>\n",
       "      <td>0.900000</td>\n",
       "      <td>0.905121</td>\n",
       "      <td>{'n_neighbors': 5}</td>\n",
       "    </tr>\n",
       "  </tbody>\n",
       "</table>\n",
       "</div>"
      ],
      "text/plain": [
       "  Train/Test Split  Training Accuracy  Validation Accuracy  Testing Accuracy  \\\n",
       "0       [0.2, 0.8]           0.919333             0.907083          0.897108   \n",
       "1       [0.5, 0.5]           0.914000             0.899333          0.900244   \n",
       "2       [0.8, 0.2]           0.936833             0.900000          0.905121   \n",
       "\n",
       "       Hyperparameters  \n",
       "0  {'n_neighbors': 15}  \n",
       "1  {'n_neighbors': 15}  \n",
       "2   {'n_neighbors': 5}  "
      ]
     },
     "execution_count": 8,
     "metadata": {},
     "output_type": "execute_result"
    }
   ],
   "source": [
    "col = []\n",
    "for train, test in [[0.2, 0.8], [0.5, 0.5], [0.8, 0.2]]:\n",
    "    train_score, validation_score, test_score, best_params = KNN_score(X, y, train_size=train, test_size=test)\n",
    "    row = [[train, test], train_score, validation_score, test_score, best_params]\n",
    "    col.append(row)\n",
    "df = pd.DataFrame(col)\n",
    "df.columns = [\"Train/Test Split\", \"Training Accuracy\", \"Validation Accuracy\", \"Testing Accuracy\", \"Hyperparameters\"]\n",
    "df"
   ]
  },
  {
   "cell_type": "code",
   "execution_count": 9,
   "id": "a38f80ea",
   "metadata": {},
   "outputs": [],
   "source": [
    "df.to_clipboard()"
   ]
  },
  {
   "cell_type": "code",
   "execution_count": 8,
   "id": "f82697bf",
   "metadata": {},
   "outputs": [
    {
     "name": "stdout",
     "output_type": "stream",
     "text": [
      "({'n_neighbors': 15}, 0.9103333333333333, 0.8965833333333334, 0.90140517942167)\n"
     ]
    }
   ],
   "source": [
    "print(KNN_score(X, y, train_size=0.2, test_size=0.8))"
   ]
  },
  {
   "cell_type": "code",
   "execution_count": 9,
   "id": "e9f5c7b2",
   "metadata": {},
   "outputs": [
    {
     "name": "stdout",
     "output_type": "stream",
     "text": [
      "({'n_neighbors': 15}, 0.9129333333333333, 0.9001333333333333, 0.9022180931366857)\n"
     ]
    }
   ],
   "source": [
    "print(KNN_score(X, y, train_size=0.5, test_size=0.5))"
   ]
  },
  {
   "cell_type": "code",
   "execution_count": 10,
   "id": "42962f8c",
   "metadata": {},
   "outputs": [
    {
     "name": "stdout",
     "output_type": "stream",
     "text": [
      "({'n_neighbors': 5}, 0.9358333333333334, 0.8936666666666667, 0.9076762280803623)\n"
     ]
    }
   ],
   "source": [
    "print(KNN_score(X, y, train_size=0.8, test_size=0.2))"
   ]
  },
  {
   "cell_type": "code",
   "execution_count": null,
   "id": "6b9e7e96",
   "metadata": {},
   "outputs": [],
   "source": []
  },
  {
   "cell_type": "code",
   "execution_count": 11,
   "id": "c02ddbb6",
   "metadata": {},
   "outputs": [],
   "source": [
    "X, y = fetch_dataset(\"adult\")"
   ]
  },
  {
   "cell_type": "code",
   "execution_count": 10,
   "id": "7deb55b8",
   "metadata": {},
   "outputs": [
    {
     "data": {
      "text/html": [
       "<div>\n",
       "<style scoped>\n",
       "    .dataframe tbody tr th:only-of-type {\n",
       "        vertical-align: middle;\n",
       "    }\n",
       "\n",
       "    .dataframe tbody tr th {\n",
       "        vertical-align: top;\n",
       "    }\n",
       "\n",
       "    .dataframe thead th {\n",
       "        text-align: right;\n",
       "    }\n",
       "</style>\n",
       "<table border=\"1\" class=\"dataframe\">\n",
       "  <thead>\n",
       "    <tr style=\"text-align: right;\">\n",
       "      <th></th>\n",
       "      <th>Train/Test Split</th>\n",
       "      <th>Training Accuracy</th>\n",
       "      <th>Validation Accuracy</th>\n",
       "      <th>Testing Accuracy</th>\n",
       "      <th>Hyperparameters</th>\n",
       "    </tr>\n",
       "  </thead>\n",
       "  <tbody>\n",
       "    <tr>\n",
       "      <th>0</th>\n",
       "      <td>[0.2, 0.8]</td>\n",
       "      <td>0.914333</td>\n",
       "      <td>0.903167</td>\n",
       "      <td>0.900128</td>\n",
       "      <td>{'n_neighbors': 15}</td>\n",
       "    </tr>\n",
       "    <tr>\n",
       "      <th>1</th>\n",
       "      <td>[0.5, 0.5]</td>\n",
       "      <td>0.912667</td>\n",
       "      <td>0.896000</td>\n",
       "      <td>0.906631</td>\n",
       "      <td>{'n_neighbors': 10}</td>\n",
       "    </tr>\n",
       "    <tr>\n",
       "      <th>2</th>\n",
       "      <td>[0.8, 0.2]</td>\n",
       "      <td>0.935417</td>\n",
       "      <td>0.901000</td>\n",
       "      <td>0.905818</td>\n",
       "      <td>{'n_neighbors': 5}</td>\n",
       "    </tr>\n",
       "  </tbody>\n",
       "</table>\n",
       "</div>"
      ],
      "text/plain": [
       "  Train/Test Split  Training Accuracy  Validation Accuracy  Testing Accuracy  \\\n",
       "0       [0.2, 0.8]           0.914333             0.903167          0.900128   \n",
       "1       [0.5, 0.5]           0.912667             0.896000          0.906631   \n",
       "2       [0.8, 0.2]           0.935417             0.901000          0.905818   \n",
       "\n",
       "       Hyperparameters  \n",
       "0  {'n_neighbors': 15}  \n",
       "1  {'n_neighbors': 10}  \n",
       "2   {'n_neighbors': 5}  "
      ]
     },
     "execution_count": 10,
     "metadata": {},
     "output_type": "execute_result"
    }
   ],
   "source": [
    "col = []\n",
    "for train, test in [[0.2, 0.8], [0.5, 0.5], [0.8, 0.2]]:\n",
    "    train_score, validation_score, test_score, best_params = KNN_score(X, y, train_size=train, test_size=test)\n",
    "    row = [[train, test], train_score, validation_score, test_score, best_params]\n",
    "    col.append(row)\n",
    "df = pd.DataFrame(col)\n",
    "df.columns = [\"Train/Test Split\", \"Training Accuracy\", \"Validation Accuracy\", \"Testing Accuracy\", \"Hyperparameters\"]\n",
    "df"
   ]
  },
  {
   "cell_type": "code",
   "execution_count": 11,
   "id": "92342678",
   "metadata": {},
   "outputs": [],
   "source": [
    "df.to_clipboard()"
   ]
  },
  {
   "cell_type": "code",
   "execution_count": 12,
   "id": "399d8194",
   "metadata": {},
   "outputs": [
    {
     "name": "stdout",
     "output_type": "stream",
     "text": [
      "({'n_neighbors': 15}, 0.7813333333333334, 0.7680833333333332, 0.7898362300989918)\n"
     ]
    }
   ],
   "source": [
    "print(KNN_score(X, y, train_size=0.2, test_size=0.8))"
   ]
  },
  {
   "cell_type": "code",
   "execution_count": 13,
   "id": "bb7a5d13",
   "metadata": {},
   "outputs": [
    {
     "name": "stdout",
     "output_type": "stream",
     "text": [
      "({'n_neighbors': 15}, 0.7885333333333334, 0.7747999999999999, 0.7843848364581908)\n"
     ]
    }
   ],
   "source": [
    "print(KNN_score(X, y, train_size=0.5, test_size=0.5))"
   ]
  },
  {
   "cell_type": "code",
   "execution_count": 14,
   "id": "81c28438",
   "metadata": {},
   "outputs": [
    {
     "name": "stdout",
     "output_type": "stream",
     "text": [
      "({'n_neighbors': 15}, 0.7987500000000001, 0.7753333333333333, 0.7878290223986132)\n"
     ]
    }
   ],
   "source": [
    "print(KNN_score(X, y, train_size=0.8, test_size=0.2))"
   ]
  },
  {
   "cell_type": "code",
   "execution_count": null,
   "id": "a00ec7df",
   "metadata": {},
   "outputs": [],
   "source": []
  },
  {
   "cell_type": "code",
   "execution_count": 15,
   "id": "35b524d2",
   "metadata": {},
   "outputs": [],
   "source": [
    "X, y = fetch_dataset(\"bank_marketing\")"
   ]
  },
  {
   "cell_type": "code",
   "execution_count": 12,
   "id": "292e1fa8",
   "metadata": {},
   "outputs": [
    {
     "data": {
      "text/html": [
       "<div>\n",
       "<style scoped>\n",
       "    .dataframe tbody tr th:only-of-type {\n",
       "        vertical-align: middle;\n",
       "    }\n",
       "\n",
       "    .dataframe tbody tr th {\n",
       "        vertical-align: top;\n",
       "    }\n",
       "\n",
       "    .dataframe thead th {\n",
       "        text-align: right;\n",
       "    }\n",
       "</style>\n",
       "<table border=\"1\" class=\"dataframe\">\n",
       "  <thead>\n",
       "    <tr style=\"text-align: right;\">\n",
       "      <th></th>\n",
       "      <th>Train/Test Split</th>\n",
       "      <th>Training Accuracy</th>\n",
       "      <th>Validation Accuracy</th>\n",
       "      <th>Testing Accuracy</th>\n",
       "      <th>Hyperparameters</th>\n",
       "    </tr>\n",
       "  </thead>\n",
       "  <tbody>\n",
       "    <tr>\n",
       "      <th>0</th>\n",
       "      <td>[0.2, 0.8]</td>\n",
       "      <td>0.914333</td>\n",
       "      <td>0.898250</td>\n",
       "      <td>0.903612</td>\n",
       "      <td>{'n_neighbors': 15}</td>\n",
       "    </tr>\n",
       "    <tr>\n",
       "      <th>1</th>\n",
       "      <td>[0.5, 0.5]</td>\n",
       "      <td>0.913733</td>\n",
       "      <td>0.901733</td>\n",
       "      <td>0.902915</td>\n",
       "      <td>{'n_neighbors': 10}</td>\n",
       "    </tr>\n",
       "    <tr>\n",
       "      <th>2</th>\n",
       "      <td>[0.8, 0.2]</td>\n",
       "      <td>0.938667</td>\n",
       "      <td>0.916333</td>\n",
       "      <td>0.907792</td>\n",
       "      <td>{'n_neighbors': 5}</td>\n",
       "    </tr>\n",
       "  </tbody>\n",
       "</table>\n",
       "</div>"
      ],
      "text/plain": [
       "  Train/Test Split  Training Accuracy  Validation Accuracy  Testing Accuracy  \\\n",
       "0       [0.2, 0.8]           0.914333             0.898250          0.903612   \n",
       "1       [0.5, 0.5]           0.913733             0.901733          0.902915   \n",
       "2       [0.8, 0.2]           0.938667             0.916333          0.907792   \n",
       "\n",
       "       Hyperparameters  \n",
       "0  {'n_neighbors': 15}  \n",
       "1  {'n_neighbors': 10}  \n",
       "2   {'n_neighbors': 5}  "
      ]
     },
     "execution_count": 12,
     "metadata": {},
     "output_type": "execute_result"
    }
   ],
   "source": [
    "col = []\n",
    "for train, test in [[0.2, 0.8], [0.5, 0.5], [0.8, 0.2]]:\n",
    "    train_score, validation_score, test_score, best_params = KNN_score(X, y, train_size=train, test_size=test)\n",
    "    row = [[train, test], train_score, validation_score, test_score, best_params]\n",
    "    col.append(row)\n",
    "df = pd.DataFrame(col)\n",
    "df.columns = [\"Train/Test Split\", \"Training Accuracy\", \"Validation Accuracy\", \"Testing Accuracy\", \"Hyperparameters\"]\n",
    "df"
   ]
  },
  {
   "cell_type": "code",
   "execution_count": 13,
   "id": "7db05316",
   "metadata": {},
   "outputs": [],
   "source": [
    "df.to_clipboard()"
   ]
  },
  {
   "cell_type": "code",
   "execution_count": 16,
   "id": "1a92753e",
   "metadata": {},
   "outputs": [
    {
     "name": "stdout",
     "output_type": "stream",
     "text": [
      "({'n_neighbors': 10}, 0.8913333333333333, 0.8821666666666667, 0.8848573773345602)\n"
     ]
    }
   ],
   "source": [
    "print(KNN_score(X, y, train_size=0.2, test_size=0.8))"
   ]
  },
  {
   "cell_type": "code",
   "execution_count": 17,
   "id": "40cd397a",
   "metadata": {},
   "outputs": [
    {
     "name": "stdout",
     "output_type": "stream",
     "text": [
      "({'n_neighbors': 10}, 0.8993333333333333, 0.8857333333333334, 0.8845589515306757)\n"
     ]
    }
   ],
   "source": [
    "print(KNN_score(X, y, train_size=0.5, test_size=0.5))"
   ]
  },
  {
   "cell_type": "code",
   "execution_count": 18,
   "id": "eef44e20",
   "metadata": {},
   "outputs": [
    {
     "name": "stdout",
     "output_type": "stream",
     "text": [
      "({'n_neighbors': 15}, 0.8965, 0.8943333333333333, 0.8840118375568874)\n"
     ]
    }
   ],
   "source": [
    "print(KNN_score(X, y, train_size=0.8, test_size=0.2))"
   ]
  },
  {
   "cell_type": "code",
   "execution_count": null,
   "id": "46421991",
   "metadata": {},
   "outputs": [],
   "source": []
  }
 ],
 "metadata": {
  "kernelspec": {
   "display_name": "Python 3 (ipykernel)",
   "language": "python",
   "name": "python3"
  },
  "language_info": {
   "codemirror_mode": {
    "name": "ipython",
    "version": 3
   },
   "file_extension": ".py",
   "mimetype": "text/x-python",
   "name": "python",
   "nbconvert_exporter": "python",
   "pygments_lexer": "ipython3",
   "version": "3.11.5"
  }
 },
 "nbformat": 4,
 "nbformat_minor": 5
}
