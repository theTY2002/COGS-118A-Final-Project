{
 "cells": [
  {
   "cell_type": "code",
   "execution_count": 1,
   "id": "f69949b5",
   "metadata": {},
   "outputs": [],
   "source": [
    "import pandas as pd\n",
    "\n",
    "from sklearn.model_selection import GridSearchCV, ShuffleSplit\n",
    "from sklearn.utils import shuffle\n",
    "from sklearn.model_selection import ValidationCurveDisplay\n",
    "from sklearn.ensemble import HistGradientBoostingClassifier\n",
    "from ucimlrepo import fetch_ucirepo\n",
    "import warnings\n",
    "warnings.filterwarnings(\"ignore\")\n",
    "\n",
    "## #Get datasets x3\n",
    "#Shuffle X and y using shuffle\n",
    "#Encode X (if needed), squeeze y\n",
    "#Set aside data for \"test\" to keep the amount of \"train\" & \"validate\" consistent across datasets\n",
    "#ShuffleSplit(n_iter=3, (THIS IS THE 3 TRIALS) testsize=TRY ALL 3) and gridsearch to find hyperparams x3 testsize, x3 classifiers\n",
    "#set parameters\n",
    "#Get test error with test set\n",
    "#Evaluate"
   ]
  },
  {
   "cell_type": "code",
   "execution_count": 2,
   "id": "a426311d",
   "metadata": {},
   "outputs": [],
   "source": [
    "def fetch_dataset(name):\n",
    "    match name:\n",
    "        case \"dry_bean_dataset\":\n",
    "            dry_bean_dataset = fetch_ucirepo(id=602) \n",
    "\n",
    "            # data (as pandas dataframes) \n",
    "            X = dry_bean_dataset.data.features \n",
    "            y = dry_bean_dataset.data.targets \n",
    "            y = (y == \"DERMASON\").squeeze()\n",
    "        case \"adult\":\n",
    "            adult = fetch_ucirepo(id=2) \n",
    "\n",
    "            # data (as pandas dataframes) \n",
    "            X = adult.data.features \n",
    "            y = adult.data.targets\n",
    "            y = ((y == \"<=50K\") | (y == \"<=50K.\")).squeeze()\n",
    "        case \"bank_marketing\":\n",
    "            bank_marketing = fetch_ucirepo(id=222) \n",
    "  \n",
    "            # data (as pandas dataframes) \n",
    "            X = bank_marketing.data.features \n",
    "            y = bank_marketing.data.targets\n",
    "            y = (y == \"yes\").squeeze()\n",
    "    return X, y"
   ]
  },
  {
   "cell_type": "code",
   "execution_count": 3,
   "id": "462b1b1b",
   "metadata": {},
   "outputs": [],
   "source": [
    "def encoding(X):\n",
    "    return pd.get_dummies(X)"
   ]
  },
  {
   "cell_type": "code",
   "execution_count": 4,
   "id": "b0ba784c",
   "metadata": {},
   "outputs": [],
   "source": [
    "def split_data(X, y):\n",
    "    X_sum = X.iloc[:5000]\n",
    "    y_sum = y.iloc[:5000]\n",
    "    X_test = X.iloc[5000:]\n",
    "    y_test = y.iloc[5000:]\n",
    "    return X_sum, y_sum, X_test, y_test"
   ]
  },
  {
   "cell_type": "code",
   "execution_count": 5,
   "id": "57309e37",
   "metadata": {},
   "outputs": [],
   "source": [
    "def data_setup(X, y):\n",
    "    X, y = shuffle(X, y)#, random_state=0)\n",
    "    X, y = X.reset_index(drop=True), y.reset_index(drop=True)\n",
    "    X = encoding(X)\n",
    "    X_sum, y_sum, X_test, y_test = split_data(X, y)\n",
    "    return X_sum, y_sum, X_test, y_test"
   ]
  },
  {
   "cell_type": "code",
   "execution_count": 24,
   "id": "295eceeb",
   "metadata": {},
   "outputs": [],
   "source": [
    "def BST_score(X, y, test_size, train_size):\n",
    "    X_sum, y_sum, X_test, y_test = data_setup(X, y)\n",
    "    parameters = {'learning_rate':[0.1, 0.2, 0.3], 'max_iter':[10, 20, 50]}\n",
    "    # print(\"train: \" + str(train_size))\n",
    "    # Train test split\n",
    "    shuffle_split = ShuffleSplit(n_splits=3, test_size=test_size, train_size=train_size)\n",
    "    # This is equivalent to: \n",
    "    #   X_train, X_test, y_train, y_test = train_test_split(X, y, test_size=0.3)\n",
    "    # But, it is usable for GridSearchCV\n",
    "\n",
    "    # GridSearch without CV\n",
    "    clf = HistGradientBoostingClassifier()\n",
    "    grid_search = GridSearchCV(clf, param_grid=parameters, cv=shuffle_split, return_train_score=True)\n",
    "    grid_search.fit(X_sum, y_sum)\n",
    "    \n",
    "    results = pd.DataFrame(grid_search.cv_results_)\n",
    "    best_params = grid_search.best_params_\n",
    "    train_score = results[\"mean_train_score\"][grid_search.best_index_]\n",
    "    validation_score = results[\"mean_test_score\"][grid_search.best_index_]\n",
    "    clf = HistGradientBoostingClassifier(learning_rate=best_params[\"learning_rate\"], max_iter=best_params[\"max_iter\"]).fit(X_sum, y_sum)#, random_state=0)\n",
    "    test_score = clf.score(X_test, y_test)\n",
    "    \n",
    "    return train_score, validation_score, test_score, best_params"
   ]
  },
  {
   "cell_type": "code",
   "execution_count": 25,
   "id": "8b3e9397",
   "metadata": {},
   "outputs": [],
   "source": [
    "X, y = fetch_dataset(\"dry_bean_dataset\")"
   ]
  },
  {
   "cell_type": "code",
   "execution_count": 26,
   "id": "a014fa45",
   "metadata": {},
   "outputs": [
    {
     "data": {
      "text/html": [
       "<div>\n",
       "<style scoped>\n",
       "    .dataframe tbody tr th:only-of-type {\n",
       "        vertical-align: middle;\n",
       "    }\n",
       "\n",
       "    .dataframe tbody tr th {\n",
       "        vertical-align: top;\n",
       "    }\n",
       "\n",
       "    .dataframe thead th {\n",
       "        text-align: right;\n",
       "    }\n",
       "</style>\n",
       "<table border=\"1\" class=\"dataframe\">\n",
       "  <thead>\n",
       "    <tr style=\"text-align: right;\">\n",
       "      <th></th>\n",
       "      <th>Train/Test Split</th>\n",
       "      <th>Training Accuracy</th>\n",
       "      <th>Validation Accuracy</th>\n",
       "      <th>Testing Accuracy</th>\n",
       "      <th>Hyperparameters</th>\n",
       "    </tr>\n",
       "  </thead>\n",
       "  <tbody>\n",
       "    <tr>\n",
       "      <th>0</th>\n",
       "      <td>[0.2, 0.8]</td>\n",
       "      <td>0.977000</td>\n",
       "      <td>0.952417</td>\n",
       "      <td>0.955754</td>\n",
       "      <td>{'learning_rate': 0.1, 'max_iter': 20}</td>\n",
       "    </tr>\n",
       "    <tr>\n",
       "      <th>1</th>\n",
       "      <td>[0.5, 0.5]</td>\n",
       "      <td>0.991333</td>\n",
       "      <td>0.952800</td>\n",
       "      <td>0.957845</td>\n",
       "      <td>{'learning_rate': 0.2, 'max_iter': 20}</td>\n",
       "    </tr>\n",
       "    <tr>\n",
       "      <th>2</th>\n",
       "      <td>[0.8, 0.2]</td>\n",
       "      <td>0.981750</td>\n",
       "      <td>0.959000</td>\n",
       "      <td>0.954361</td>\n",
       "      <td>{'learning_rate': 0.2, 'max_iter': 10}</td>\n",
       "    </tr>\n",
       "  </tbody>\n",
       "</table>\n",
       "</div>"
      ],
      "text/plain": [
       "  Train/Test Split  Training Accuracy  Validation Accuracy  Testing Accuracy  \\\n",
       "0       [0.2, 0.8]           0.977000             0.952417          0.955754   \n",
       "1       [0.5, 0.5]           0.991333             0.952800          0.957845   \n",
       "2       [0.8, 0.2]           0.981750             0.959000          0.954361   \n",
       "\n",
       "                          Hyperparameters  \n",
       "0  {'learning_rate': 0.1, 'max_iter': 20}  \n",
       "1  {'learning_rate': 0.2, 'max_iter': 20}  \n",
       "2  {'learning_rate': 0.2, 'max_iter': 10}  "
      ]
     },
     "execution_count": 26,
     "metadata": {},
     "output_type": "execute_result"
    }
   ],
   "source": [
    "col = []\n",
    "for train, test in [[0.2, 0.8], [0.5, 0.5], [0.8, 0.2]]:\n",
    "    train_score, validation_score, test_score, best_params = BST_score(X, y, train_size=train, test_size=test)\n",
    "    row = [[train, test], train_score, validation_score, test_score, best_params]\n",
    "    col.append(row)\n",
    "df = pd.DataFrame(col)\n",
    "df.columns = [\"Train/Test Split\", \"Training Accuracy\", \"Validation Accuracy\", \"Testing Accuracy\", \"Hyperparameters\"]\n",
    "df"
   ]
  },
  {
   "cell_type": "code",
   "execution_count": 9,
   "id": "25896b86",
   "metadata": {},
   "outputs": [],
   "source": [
    "df.to_clipboard()"
   ]
  },
  {
   "cell_type": "code",
   "execution_count": 8,
   "id": "f82697bf",
   "metadata": {},
   "outputs": [
    {
     "name": "stdout",
     "output_type": "stream",
     "text": [
      "({'learning_rate': 0.3, 'max_iter': 100}, 1.0, 0.9498333333333333, 0.9526187434676576)\n"
     ]
    }
   ],
   "source": [
    "print(BST_score(X, y, train_size=0.2, test_size=0.8))"
   ]
  },
  {
   "cell_type": "code",
   "execution_count": 9,
   "id": "e9f5c7b2",
   "metadata": {},
   "outputs": [
    {
     "name": "stdout",
     "output_type": "stream",
     "text": [
      "({'learning_rate': 0.2, 'max_iter': 200}, 1.0, 0.9549333333333334, 0.9549413540819881)\n"
     ]
    }
   ],
   "source": [
    "print(BST_score(X, y, train_size=0.5, test_size=0.5))"
   ]
  },
  {
   "cell_type": "code",
   "execution_count": 10,
   "id": "42962f8c",
   "metadata": {},
   "outputs": [
    {
     "name": "stdout",
     "output_type": "stream",
     "text": [
      "({'learning_rate': 0.1, 'max_iter': 100}, 1.0, 0.9533333333333333, 0.9526187434676576)\n"
     ]
    }
   ],
   "source": [
    "print(BST_score(X, y, train_size=0.8, test_size=0.2))"
   ]
  },
  {
   "cell_type": "code",
   "execution_count": null,
   "id": "6b9e7e96",
   "metadata": {},
   "outputs": [],
   "source": []
  },
  {
   "cell_type": "code",
   "execution_count": 27,
   "id": "c02ddbb6",
   "metadata": {},
   "outputs": [],
   "source": [
    "X, y = fetch_dataset(\"adult\")"
   ]
  },
  {
   "cell_type": "code",
   "execution_count": 28,
   "id": "1276e0b1",
   "metadata": {},
   "outputs": [
    {
     "data": {
      "text/html": [
       "<div>\n",
       "<style scoped>\n",
       "    .dataframe tbody tr th:only-of-type {\n",
       "        vertical-align: middle;\n",
       "    }\n",
       "\n",
       "    .dataframe tbody tr th {\n",
       "        vertical-align: top;\n",
       "    }\n",
       "\n",
       "    .dataframe thead th {\n",
       "        text-align: right;\n",
       "    }\n",
       "</style>\n",
       "<table border=\"1\" class=\"dataframe\">\n",
       "  <thead>\n",
       "    <tr style=\"text-align: right;\">\n",
       "      <th></th>\n",
       "      <th>Train/Test Split</th>\n",
       "      <th>Training Accuracy</th>\n",
       "      <th>Validation Accuracy</th>\n",
       "      <th>Testing Accuracy</th>\n",
       "      <th>Hyperparameters</th>\n",
       "    </tr>\n",
       "  </thead>\n",
       "  <tbody>\n",
       "    <tr>\n",
       "      <th>0</th>\n",
       "      <td>[0.2, 0.8]</td>\n",
       "      <td>0.910000</td>\n",
       "      <td>0.848833</td>\n",
       "      <td>0.858515</td>\n",
       "      <td>{'learning_rate': 0.1, 'max_iter': 20}</td>\n",
       "    </tr>\n",
       "    <tr>\n",
       "      <th>1</th>\n",
       "      <td>[0.5, 0.5]</td>\n",
       "      <td>0.893600</td>\n",
       "      <td>0.855067</td>\n",
       "      <td>0.857625</td>\n",
       "      <td>{'learning_rate': 0.1, 'max_iter': 20}</td>\n",
       "    </tr>\n",
       "    <tr>\n",
       "      <th>2</th>\n",
       "      <td>[0.8, 0.2]</td>\n",
       "      <td>0.911167</td>\n",
       "      <td>0.862667</td>\n",
       "      <td>0.863145</td>\n",
       "      <td>{'learning_rate': 0.2, 'max_iter': 20}</td>\n",
       "    </tr>\n",
       "  </tbody>\n",
       "</table>\n",
       "</div>"
      ],
      "text/plain": [
       "  Train/Test Split  Training Accuracy  Validation Accuracy  Testing Accuracy  \\\n",
       "0       [0.2, 0.8]           0.910000             0.848833          0.858515   \n",
       "1       [0.5, 0.5]           0.893600             0.855067          0.857625   \n",
       "2       [0.8, 0.2]           0.911167             0.862667          0.863145   \n",
       "\n",
       "                          Hyperparameters  \n",
       "0  {'learning_rate': 0.1, 'max_iter': 20}  \n",
       "1  {'learning_rate': 0.1, 'max_iter': 20}  \n",
       "2  {'learning_rate': 0.2, 'max_iter': 20}  "
      ]
     },
     "execution_count": 28,
     "metadata": {},
     "output_type": "execute_result"
    }
   ],
   "source": [
    "col = []\n",
    "for train, test in [[0.2, 0.8], [0.5, 0.5], [0.8, 0.2]]:\n",
    "    train_score, validation_score, test_score, best_params = BST_score(X, y, train_size=train, test_size=test)\n",
    "    row = [[train, test], train_score, validation_score, test_score, best_params]\n",
    "    col.append(row)\n",
    "df = pd.DataFrame(col)\n",
    "df.columns = [\"Train/Test Split\", \"Training Accuracy\", \"Validation Accuracy\", \"Testing Accuracy\", \"Hyperparameters\"]\n",
    "df"
   ]
  },
  {
   "cell_type": "code",
   "execution_count": 12,
   "id": "a662888d",
   "metadata": {},
   "outputs": [],
   "source": [
    "df.to_clipboard()"
   ]
  },
  {
   "cell_type": "code",
   "execution_count": 12,
   "id": "399d8194",
   "metadata": {},
   "outputs": [
    {
     "name": "stdout",
     "output_type": "stream",
     "text": [
      "({'learning_rate': 0.1, 'max_iter': 100}, 1.0, 0.8328333333333333, 0.8609552483919529)\n"
     ]
    }
   ],
   "source": [
    "print(BST_score(X, y, train_size=0.2, test_size=0.8))"
   ]
  },
  {
   "cell_type": "code",
   "execution_count": 13,
   "id": "bb7a5d13",
   "metadata": {},
   "outputs": [
    {
     "name": "stdout",
     "output_type": "stream",
     "text": [
      "({'learning_rate': 0.1, 'max_iter': 100}, 0.9738666666666668, 0.8473333333333333, 0.860316591396378)\n"
     ]
    }
   ],
   "source": [
    "print(BST_score(X, y, train_size=0.5, test_size=0.5))"
   ]
  },
  {
   "cell_type": "code",
   "execution_count": 14,
   "id": "81c28438",
   "metadata": {},
   "outputs": [
    {
     "name": "stdout",
     "output_type": "stream",
     "text": [
      "({'learning_rate': 0.1, 'max_iter': 100}, 0.9454166666666666, 0.855, 0.8593586059030154)\n"
     ]
    }
   ],
   "source": [
    "print(BST_score(X, y, train_size=0.8, test_size=0.2))"
   ]
  },
  {
   "cell_type": "code",
   "execution_count": null,
   "id": "a00ec7df",
   "metadata": {},
   "outputs": [],
   "source": []
  },
  {
   "cell_type": "code",
   "execution_count": 13,
   "id": "35b524d2",
   "metadata": {},
   "outputs": [],
   "source": [
    "X, y = fetch_dataset(\"bank_marketing\")"
   ]
  },
  {
   "cell_type": "code",
   "execution_count": 14,
   "id": "1b186cda",
   "metadata": {},
   "outputs": [
    {
     "data": {
      "text/html": [
       "<div>\n",
       "<style scoped>\n",
       "    .dataframe tbody tr th:only-of-type {\n",
       "        vertical-align: middle;\n",
       "    }\n",
       "\n",
       "    .dataframe tbody tr th {\n",
       "        vertical-align: top;\n",
       "    }\n",
       "\n",
       "    .dataframe thead th {\n",
       "        text-align: right;\n",
       "    }\n",
       "</style>\n",
       "<table border=\"1\" class=\"dataframe\">\n",
       "  <thead>\n",
       "    <tr style=\"text-align: right;\">\n",
       "      <th></th>\n",
       "      <th>Train/Test Split</th>\n",
       "      <th>Training Accuracy</th>\n",
       "      <th>Validation Accuracy</th>\n",
       "      <th>Testing Accuracy</th>\n",
       "      <th>Hyperparameters</th>\n",
       "    </tr>\n",
       "  </thead>\n",
       "  <tbody>\n",
       "    <tr>\n",
       "      <th>0</th>\n",
       "      <td>[0.2, 0.8]</td>\n",
       "      <td>1.000000</td>\n",
       "      <td>0.901750</td>\n",
       "      <td>0.901470</td>\n",
       "      <td>{'learning_rate': 0.1, 'max_iter': 100}</td>\n",
       "    </tr>\n",
       "    <tr>\n",
       "      <th>1</th>\n",
       "      <td>[0.5, 0.5]</td>\n",
       "      <td>0.999867</td>\n",
       "      <td>0.895467</td>\n",
       "      <td>0.900500</td>\n",
       "      <td>{'learning_rate': 0.1, 'max_iter': 100}</td>\n",
       "    </tr>\n",
       "    <tr>\n",
       "      <th>2</th>\n",
       "      <td>[0.8, 0.2]</td>\n",
       "      <td>0.999833</td>\n",
       "      <td>0.899667</td>\n",
       "      <td>0.898834</td>\n",
       "      <td>{'learning_rate': 0.2, 'max_iter': 100}</td>\n",
       "    </tr>\n",
       "  </tbody>\n",
       "</table>\n",
       "</div>"
      ],
      "text/plain": [
       "  Train/Test Split  Training Accuracy  Validation Accuracy  Testing Accuracy  \\\n",
       "0       [0.2, 0.8]           1.000000             0.901750          0.901470   \n",
       "1       [0.5, 0.5]           0.999867             0.895467          0.900500   \n",
       "2       [0.8, 0.2]           0.999833             0.899667          0.898834   \n",
       "\n",
       "                           Hyperparameters  \n",
       "0  {'learning_rate': 0.1, 'max_iter': 100}  \n",
       "1  {'learning_rate': 0.1, 'max_iter': 100}  \n",
       "2  {'learning_rate': 0.2, 'max_iter': 100}  "
      ]
     },
     "execution_count": 14,
     "metadata": {},
     "output_type": "execute_result"
    }
   ],
   "source": [
    "col = []\n",
    "for train, test in [[0.2, 0.8], [0.5, 0.5], [0.8, 0.2]]:\n",
    "    train_score, validation_score, test_score, best_params = BST_score(X, y, train_size=train, test_size=test)\n",
    "    row = [[train, test], train_score, validation_score, test_score, best_params]\n",
    "    col.append(row)\n",
    "df = pd.DataFrame(col)\n",
    "df.columns = [\"Train/Test Split\", \"Training Accuracy\", \"Validation Accuracy\", \"Testing Accuracy\", \"Hyperparameters\"]\n",
    "df"
   ]
  },
  {
   "cell_type": "code",
   "execution_count": 15,
   "id": "f52dc393",
   "metadata": {},
   "outputs": [],
   "source": [
    "df.to_clipboard()"
   ]
  },
  {
   "cell_type": "code",
   "execution_count": 16,
   "id": "1a92753e",
   "metadata": {},
   "outputs": [
    {
     "name": "stdout",
     "output_type": "stream",
     "text": [
      "({'learning_rate': 0.1, 'max_iter': 100}, 1.0, 0.8911666666666668, 0.9018179105219964)\n"
     ]
    }
   ],
   "source": [
    "print(BST_score(X, y, train_size=0.2, test_size=0.8))"
   ]
  },
  {
   "cell_type": "code",
   "execution_count": 17,
   "id": "40cd397a",
   "metadata": {},
   "outputs": [
    {
     "name": "stdout",
     "output_type": "stream",
     "text": [
      "({'learning_rate': 0.2, 'max_iter': 300}, 1.0, 0.8852000000000001, 0.8979881127054786)\n"
     ]
    }
   ],
   "source": [
    "print(BST_score(X, y, train_size=0.5, test_size=0.5))"
   ]
  },
  {
   "cell_type": "code",
   "execution_count": 18,
   "id": "eef44e20",
   "metadata": {},
   "outputs": [
    {
     "name": "stdout",
     "output_type": "stream",
     "text": [
      "({'learning_rate': 0.1, 'max_iter': 200}, 1.0, 0.8940000000000001, 0.8985600954962573)\n"
     ]
    }
   ],
   "source": [
    "print(BST_score(X, y, train_size=0.8, test_size=0.2))"
   ]
  },
  {
   "cell_type": "code",
   "execution_count": null,
   "id": "46421991",
   "metadata": {},
   "outputs": [],
   "source": []
  }
 ],
 "metadata": {
  "kernelspec": {
   "display_name": "Python 3 (ipykernel)",
   "language": "python",
   "name": "python3"
  },
  "language_info": {
   "codemirror_mode": {
    "name": "ipython",
    "version": 3
   },
   "file_extension": ".py",
   "mimetype": "text/x-python",
   "name": "python",
   "nbconvert_exporter": "python",
   "pygments_lexer": "ipython3",
   "version": "3.11.5"
  }
 },
 "nbformat": 4,
 "nbformat_minor": 5
}
